{
  "cells": [
    {
      "cell_type": "markdown",
      "metadata": {
        "id": "view-in-github",
        "colab_type": "text"
      },
      "source": [
        "<a href=\"https://colab.research.google.com/github/subhra004/End-to-end-Medical-Chatbot-genAI/blob/main/Parameter_Optimization_Assistant_using_NLP.ipynb\" target=\"_parent\"><img src=\"https://colab.research.google.com/assets/colab-badge.svg\" alt=\"Open In Colab\"/></a>"
      ]
    },
    {
      "cell_type": "code",
      "execution_count": null,
      "metadata": {
        "colab": {
          "background_save": true,
          "base_uri": "https://localhost:8080/"
        },
        "id": "QZkn-0HDEaeU",
        "outputId": "35a22339-9da9-4aac-e8de-4773508f060f"
      },
      "outputs": [
        {
          "name": "stdout",
          "output_type": "stream",
          "text": [
            "3D Printing Optimization Assistant: Type 'exit' to quit.\n"
          ]
        },
        {
          "name": "stderr",
          "output_type": "stream",
          "text": [
            "/usr/local/lib/python3.10/dist-packages/sklearn/utils/validation.py:2739: UserWarning: X does not have valid feature names, but StandardScaler was fitted with feature names\n",
            "  warnings.warn(\n"
          ]
        },
        {
          "name": "stdout",
          "output_type": "stream",
          "text": [
            "Recommended Parameters:\n",
            "    layer_height  wall_thickness  infill_density infill_pattern  \\\n",
            "54          0.02             6.0              12           grid   \n",
            "2           0.02             1.0              80           grid   \n",
            "6           0.02             8.0              90           grid   \n",
            "\n",
            "    nozzle_temperature  Bed_temperature  Print_speed Material  Fan_speed  \n",
            "54                 205               65           40      pla         28  \n",
            "2                  230               70           40      abs         50  \n",
            "6                  250              100           40      abs        100  \n"
          ]
        }
      ],
      "source": [
        "import pandas as pd\n",
        "import numpy as np\n",
        "from sklearn.neighbors import NearestNeighbors\n",
        "from sklearn.preprocessing import StandardScaler\n",
        "import re\n",
        "\n",
        "# Load the dataset\n",
        "file_path = '/content/3dprinter.csv'\n",
        "data = pd.read_csv(file_path)\n",
        "\n",
        "# Preprocess the data\n",
        "features = ['Roughness', 'Tension_strenght', 'Elongation']\n",
        "parameters = ['layer_height', 'wall_thickness', 'infill_density', 'infill_pattern',\n",
        "              'nozzle_temperature', 'Bed_temperature', 'Print_speed', 'Material', 'Fan_speed']\n",
        "\n",
        "# Encode categorical variables\n",
        "data_encoded = pd.get_dummies(data, columns=['infill_pattern', 'Material'])\n",
        "\n",
        "# Scale the features\n",
        "scaler = StandardScaler()\n",
        "scaled_features = scaler.fit_transform(data_encoded[features])\n",
        "\n",
        "# Train Nearest Neighbors Model\n",
        "model = NearestNeighbors(n_neighbors=3, metric='euclidean')\n",
        "model.fit(scaled_features)\n",
        "\n",
        "# Function to process text input\n",
        "def parse_input(user_input):\n",
        "    desired = {'Roughness': None, 'Tension_strenght': None, 'Elongation': None}\n",
        "\n",
        "    # Extract numerical values\n",
        "    roughness = re.search(r'(low|medium|high) roughness', user_input, re.IGNORECASE)\n",
        "    strength = re.search(r'(low|medium|high) tensile strength', user_input, re.IGNORECASE)\n",
        "    elongation = re.search(r'(low|medium|high) elongation', user_input, re.IGNORECASE)\n",
        "\n",
        "    # Map descriptions to numerical values\n",
        "    mapping = {'low': 0.25, 'medium': 0.5, 'high': 0.75}\n",
        "\n",
        "    if roughness:\n",
        "        desired['Roughness'] = mapping[roughness.group(1).lower()]\n",
        "    if strength:\n",
        "        desired['Tension_strenght'] = mapping[strength.group(1).lower()]\n",
        "    if elongation:\n",
        "        desired['Elongation'] = mapping[elongation.group(1).lower()]\n",
        "\n",
        "    return desired\n",
        "\n",
        "# Function to get recommendations\n",
        "def recommend_parameters(user_input):\n",
        "    desired = parse_input(user_input)\n",
        "\n",
        "    # Create input vector\n",
        "    input_vector = np.array([[\n",
        "        desired['Roughness'] if desired['Roughness'] is not None else data['Roughness'].mean(),\n",
        "        desired['Tension_strenght'] if desired['Tension_strenght'] is not None else data['Tension_strenght'].mean(),\n",
        "        desired['Elongation'] if desired['Elongation'] is not None else data['Elongation'].mean()\n",
        "    ]])\n",
        "\n",
        "    # Scale input vector\n",
        "    scaled_input = scaler.transform(input_vector)\n",
        "\n",
        "    # Find nearest neighbors\n",
        "    distances, indices = model.kneighbors(scaled_input)\n",
        "    recommendations = data.iloc[indices[0]][parameters]\n",
        "\n",
        "    return recommendations\n",
        "\n",
        "# Main chatbot loop\n",
        "def chatbot():\n",
        "    print(\"3D Printing Optimization Assistant: Type 'exit' to quit.\")\n",
        "    while True:\n",
        "        user_input = input(\"Enter your requirements (e.g., 'I want high tensile strength and low roughness'): \")\n",
        "        if user_input.lower() == 'exit':\n",
        "            break\n",
        "        recommendations = recommend_parameters(user_input)\n",
        "        print(\"Recommended Parameters:\")\n",
        "        print(recommendations)\n",
        "\n",
        "# Run chatbot\n",
        "if __name__ == \"__main__\":\n",
        "    chatbot()\n"
      ]
    }
  ],
  "metadata": {
    "colab": {
      "provenance": [],
      "authorship_tag": "ABX9TyOkuQI+TFPh6Os/QoCbgvTp",
      "include_colab_link": true
    },
    "kernelspec": {
      "display_name": "Python 3",
      "name": "python3"
    },
    "language_info": {
      "name": "python"
    }
  },
  "nbformat": 4,
  "nbformat_minor": 0
}